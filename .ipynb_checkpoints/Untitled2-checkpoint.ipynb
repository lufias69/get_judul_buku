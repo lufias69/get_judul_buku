{
 "cells": [
  {
   "cell_type": "code",
   "execution_count": 1,
   "metadata": {},
   "outputs": [],
   "source": [
    "from selenium.webdriver import Firefox\n",
    "from selenium.webdriver.firefox.options import Options\n",
    "import time\n",
    "from bs4 import BeautifulSoup\n",
    "from selenium import webdriver"
   ]
  },
  {
   "cell_type": "code",
   "execution_count": null,
   "metadata": {},
   "outputs": [],
   "source": []
  },
  {
   "cell_type": "code",
   "execution_count": 1,
   "metadata": {},
   "outputs": [],
   "source": [
    "# for i in [2]:\n",
    "#     jalankan(str(3))"
   ]
  },
  {
   "cell_type": "code",
   "execution_count": 18,
   "metadata": {},
   "outputs": [
    {
     "data": {
      "text/plain": [
       "'file:///C:/Users/lufias/Downloads/bISA/T10.html'"
      ]
     },
     "execution_count": 18,
     "metadata": {},
     "output_type": "execute_result"
    }
   ],
   "source": [
    "# nama_file = \"T10\"\n",
    "# format_= \".html\"\n",
    "# alamt = 'file:///C:/Users/lufias/Downloads/bISA/'+nama_file+format_\n",
    "# alamt"
   ]
  },
  {
   "cell_type": "code",
   "execution_count": 19,
   "metadata": {},
   "outputs": [],
   "source": [
    "# jalankan(nama_file)"
   ]
  },
  {
   "cell_type": "code",
   "execution_count": 6,
   "metadata": {},
   "outputs": [],
   "source": [
    "\n",
    "def jalankan(nama_file):\n",
    "    nama_file = nama_file\n",
    "    format_= \".html\"\n",
    "    alamt = 'file:///C:/Users/lufias/Downloads/bISA/'+nama_file+format_\n",
    "    alamt\n",
    "    print(nama_file)\n",
    "    # from selenium import webdriver\n",
    "    driver = webdriver.Firefox(executable_path=r'C:\\New Github\\Get data\\Driver\\geckodriver.exe')\n",
    "    driver.get(alamt)\n",
    "    time.sleep(4)\n",
    "\n",
    "    page_source = driver.page_source\n",
    "    soup = BeautifulSoup(page_source, 'lxml')\n",
    "    soal = soup.find('div', id='questions')\n",
    "\n",
    "    xx = soal.findAll('div',{\"class\": \"card-body bodyQuestion\"}) #card-footer bg-white\n",
    "\n",
    "    bahas  = soal.findAll('div',{\"class\": \"card-footer bg-white\"})\n",
    "    len(bahas)\n",
    "\n",
    "    dict_soal = dict()\n",
    "    myfile = open(nama_file+format_, 'w',encoding=\"utf-8\")\n",
    "    for indexx, soal in enumerate(xx):\n",
    "#         if indexx+1 ==\n",
    "        print(indexx+1, end=\". \")\n",
    "#         jenis = soal.find('span',{\"class\": \"badge badge-primary\"})\n",
    "#         print(jenis.get_text())\n",
    "\n",
    "#         save = \"<h4>\"+str(indexx+1)+\". \" + str((jenis.get_text()))+\"</h4>\"\n",
    "        save = \"<h4>\"+str(indexx+1)+\". \"+\"</h4>\"\n",
    "        myfile.write(save)\n",
    "\n",
    "    #     dict_soal[indexx] = 0\n",
    "    #     dict_soal[indexx] = {\"jenis\":jenis.get_text()}\n",
    "\n",
    "        s = soal.find('div',{\"class\": \"mb-4\"})\n",
    "#         print(s.get_text())\n",
    "        print(s)\n",
    "#         myfile.write(save)\n",
    "        myfile.write(str(s))\n",
    "        dict_soal[indexx] = {'soal':s.get_text()}\n",
    "\n",
    "        pilihan = soal.findAll('div',{\"class\": \"card mt-1 mb-1 choiceCard\"})\n",
    "\n",
    "        dict_p = dict()\n",
    "\n",
    "        str_p = \"\"\n",
    "        for i in pilihan:\n",
    "    #         print(str_p)\n",
    "    #         print(len(pilihan))\n",
    "            i = i.find('div',{'class':'card-body align-middle d-flex align-items-center'})\n",
    "            huruf = i.find('a').get_text()\n",
    "            print(\"[\"+huruf+\"]\", end=\" \")\n",
    "            str_p+= \"[\"+huruf+\"]. \"\n",
    "\n",
    "    #         myfile.write(str(\"[\"+huruf+\"]\"))\n",
    "\n",
    "            p = i.find('p',{'class':'mb-0 ml-2 text-muted align-middle'}).get_text()\n",
    "    #         myfile.write(str(p))\n",
    "            str_p+= str('<p>')\n",
    "            str_p+= str(p)\n",
    "            str_p+= str('</p>')\n",
    "\n",
    "\n",
    "\n",
    "            dict_p['pilihan']={huruf: {\"p\":p}}\n",
    "            print(p, end=\" =>\")\n",
    "\n",
    "            point = i.findAll('span',{'class':'badge badge-pill badge-danger mr-1'})\n",
    "\n",
    "            str_p+= \" =>\"\n",
    "            if len(point)>0:\n",
    "                pn = []\n",
    "                for p in point:\n",
    "                    pn.append(p.get_text())\n",
    "                str_p+= str(pn)\n",
    "    #             myfile.write(str(pn))\n",
    "            else:\n",
    "                pn = []\n",
    "                temp = list()\n",
    "                point = i.findAll('span',{'class':'badge badge-pill badge-primary mr-1'})\n",
    "                temp+= point\n",
    "                point = i.findAll('span',{'class':'badge badge-pill badge-success mr-1'})\n",
    "    #             badge badge-pill badge-primary mr-1\n",
    "                #badge badge-pill badge-primary mr-1\n",
    "                temp+= point\n",
    "                pn = []\n",
    "                for p in point:\n",
    "                    pn.append(p.get_text())\n",
    "                str_p+= str(pn)\n",
    "    #             myfile.write(str(pn))\n",
    "            str_p+= str(('</br>'))\n",
    "            print(pn)\n",
    "    #     print(str_p)\n",
    "        myfile.write(str_p)\n",
    "    #     myfile.write(\"<h1>tau lasi</h1>\")\n",
    "    #         dict_p['pilihan'][huruf]={\"point\":pn}\n",
    "\n",
    "\n",
    "    #         myfile.write(str(\"[\"+huruf+\"]\"+str(p)+\" =>\"+str(pn)))\n",
    "\n",
    "        print(bahas[indexx])\n",
    "        myfile.write(str(bahas[indexx]))\n",
    "        print(\"\")\n",
    "\n",
    "    #     dict_soal[indexx]['choice'] = dict_p\n",
    "\n",
    "    myfile.close()"
   ]
  },
  {
   "cell_type": "code",
   "execution_count": null,
   "metadata": {},
   "outputs": [],
   "source": []
  },
  {
   "cell_type": "code",
   "execution_count": null,
   "metadata": {},
   "outputs": [],
   "source": [
    "xx"
   ]
  },
  {
   "cell_type": "code",
   "execution_count": 49,
   "metadata": {},
   "outputs": [
    {
     "ename": "KeyError",
     "evalue": "0",
     "output_type": "error",
     "traceback": [
      "\u001b[1;31m----------------------------------------------------------------------\u001b[0m",
      "\u001b[1;31mKeyError\u001b[0m                             Traceback (most recent call last)",
      "\u001b[1;32m<ipython-input-49-c9b9f4e1299c>\u001b[0m in \u001b[0;36m<module>\u001b[1;34m\u001b[0m\n\u001b[0;32m      2\u001b[0m \u001b[1;33m\u001b[0m\u001b[0m\n\u001b[0;32m      3\u001b[0m \u001b[1;32mfor\u001b[0m \u001b[0mi\u001b[0m \u001b[1;32min\u001b[0m \u001b[0mrange\u001b[0m\u001b[1;33m(\u001b[0m\u001b[1;36m0\u001b[0m\u001b[1;33m,\u001b[0m\u001b[1;36m10\u001b[0m\u001b[1;33m)\u001b[0m\u001b[1;33m:\u001b[0m\u001b[1;33m\u001b[0m\u001b[1;33m\u001b[0m\u001b[0m\n\u001b[1;32m----> 4\u001b[1;33m     \u001b[0mdict_\u001b[0m\u001b[1;33m[\u001b[0m\u001b[0mi\u001b[0m\u001b[1;33m]\u001b[0m\u001b[1;33m[\u001b[0m\u001b[0mi\u001b[0m\u001b[1;33m+\u001b[0m\u001b[1;36m1\u001b[0m\u001b[1;33m]\u001b[0m \u001b[1;33m=\u001b[0m \u001b[1;34m\"ii\"\u001b[0m\u001b[1;33m\u001b[0m\u001b[1;33m\u001b[0m\u001b[0m\n\u001b[0m",
      "\u001b[1;31mKeyError\u001b[0m: 0"
     ]
    }
   ],
   "source": [
    "dict_ = dict()\n",
    "\n",
    "for i in range(0,10):\n",
    "    dict_[i][i+1] = \"ii\""
   ]
  },
  {
   "cell_type": "code",
   "execution_count": 47,
   "metadata": {},
   "outputs": [
    {
     "data": {
      "text/plain": [
       "{0: 'ii',\n",
       " 1: 'ii',\n",
       " 2: 'ii',\n",
       " 3: 'ii',\n",
       " 4: 'ii',\n",
       " 5: 'ii',\n",
       " 6: 'ii',\n",
       " 7: 'ii',\n",
       " 8: 'ii',\n",
       " 9: 'ii'}"
      ]
     },
     "execution_count": 47,
     "metadata": {},
     "output_type": "execute_result"
    }
   ],
   "source": [
    "dict_"
   ]
  },
  {
   "cell_type": "code",
   "execution_count": 76,
   "metadata": {},
   "outputs": [
    {
     "ename": "AttributeError",
     "evalue": "'list' object has no attribute 'join'",
     "output_type": "error",
     "traceback": [
      "\u001b[1;31m----------------------------------------------------------------------\u001b[0m",
      "\u001b[1;31mAttributeError\u001b[0m                       Traceback (most recent call last)",
      "\u001b[1;32m<ipython-input-76-27fc627d6992>\u001b[0m in \u001b[0;36m<module>\u001b[1;34m\u001b[0m\n\u001b[1;32m----> 1\u001b[1;33m \u001b[0mstr\u001b[0m\u001b[1;33m(\u001b[0m\u001b[1;33m[\u001b[0m\u001b[1;34m\"a\"\u001b[0m\u001b[1;33m,\u001b[0m\u001b[1;34m\"b\"\u001b[0m\u001b[1;33m]\u001b[0m\u001b[1;33m.\u001b[0m\u001b[0mjoin\u001b[0m\u001b[1;33m(\u001b[0m\u001b[1;34m\" \"\u001b[0m\u001b[1;33m)\u001b[0m\u001b[1;33m)\u001b[0m\u001b[1;33m\u001b[0m\u001b[1;33m\u001b[0m\u001b[0m\n\u001b[0m",
      "\u001b[1;31mAttributeError\u001b[0m: 'list' object has no attribute 'join'"
     ]
    }
   ],
   "source": [
    "str([\"a\",\"b\"].join(\" \"))"
   ]
  },
  {
   "cell_type": "code",
   "execution_count": null,
   "metadata": {},
   "outputs": [],
   "source": []
  }
 ],
 "metadata": {
  "kernelspec": {
   "display_name": "Python 3",
   "language": "python",
   "name": "python3"
  },
  "language_info": {
   "codemirror_mode": {
    "name": "ipython",
    "version": 3
   },
   "file_extension": ".py",
   "mimetype": "text/x-python",
   "name": "python",
   "nbconvert_exporter": "python",
   "pygments_lexer": "ipython3",
   "version": "3.7.6"
  }
 },
 "nbformat": 4,
 "nbformat_minor": 4
}
