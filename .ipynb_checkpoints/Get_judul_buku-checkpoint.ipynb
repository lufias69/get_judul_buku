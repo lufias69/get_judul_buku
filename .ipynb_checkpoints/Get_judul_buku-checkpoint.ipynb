{
 "cells": [
  {
   "cell_type": "code",
   "execution_count": 1,
   "metadata": {},
   "outputs": [],
   "source": [
    "from bs4 import BeautifulSoup\n",
    "import requests"
   ]
  },
  {
   "cell_type": "code",
   "execution_count": 4,
   "metadata": {},
   "outputs": [],
   "source": [
    "\n",
    "keywords = \"kimia\"\n",
    "keywords = keywords.replace(\" \", \"+\")\n",
    "page = 1"
   ]
  },
  {
   "cell_type": "code",
   "execution_count": 21,
   "metadata": {},
   "outputs": [],
   "source": [
    "url = \"https://www.pdfdrive.com/search?q=\"+keywords+\"&pagecount=&pubyear=&searchin=&em=&page=\"+str(page)\n",
    "html_content = requests.get(url).text"
   ]
  },
  {
   "cell_type": "code",
   "execution_count": 51,
   "metadata": {},
   "outputs": [
    {
     "data": {
      "text/plain": [
       "'222'"
      ]
     },
     "execution_count": 51,
     "metadata": {},
     "output_type": "execute_result"
    }
   ],
   "source": [
    "soup = BeautifulSoup(html_content, \"lxml\")\n",
    "# print(soup.prettify())\n",
    "\n",
    "div = soup.findAll('div',{\"class\": \"file-right\"})\n",
    "link_ebook = \"https://www.pdfdrive.com\"+div[0].find(href=True)['href']\n",
    "link_ebook\n",
    "judul = div[0].find('h2').get_text()\n",
    "judul\n",
    "\n",
    "# file-info\n",
    "\n",
    "detail_div = div[0].find(\"div\",{'class' : 'file-info'})\n",
    "# fi-pagecount \n",
    "\n",
    "halaman = detail_div.find(\"span\", {\"class\":\"fi-pagecount\"}).get_text().split()[0]\n",
    "halaman"
   ]
  },
  {
   "cell_type": "code",
   "execution_count": 29,
   "metadata": {},
   "outputs": [],
   "source": [
    "\n",
    "\n"
   ]
  },
  {
   "cell_type": "code",
   "execution_count": null,
   "metadata": {},
   "outputs": [],
   "source": []
  },
  {
   "cell_type": "code",
   "execution_count": null,
   "metadata": {},
   "outputs": [],
   "source": []
  },
  {
   "cell_type": "code",
   "execution_count": 32,
   "metadata": {},
   "outputs": [
    {
     "data": {
      "text/plain": [
       "'https://www.pdfdrive.com/2-kimia-organik-i-jilid-1-kimia-itu-mudah-e8417323.html'"
      ]
     },
     "execution_count": 32,
     "metadata": {},
     "output_type": "execute_result"
    }
   ],
   "source": []
  },
  {
   "cell_type": "code",
   "execution_count": null,
   "metadata": {},
   "outputs": [],
   "source": []
  }
 ],
 "metadata": {
  "kernelspec": {
   "display_name": "Python 3",
   "language": "python",
   "name": "python3"
  },
  "language_info": {
   "codemirror_mode": {
    "name": "ipython",
    "version": 3
   },
   "file_extension": ".py",
   "mimetype": "text/x-python",
   "name": "python",
   "nbconvert_exporter": "python",
   "pygments_lexer": "ipython3",
   "version": "3.7.6"
  }
 },
 "nbformat": 4,
 "nbformat_minor": 4
}
